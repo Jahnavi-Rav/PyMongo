{
 "cells": [
  {
   "cell_type": "markdown",
   "metadata": {},
   "source": [
    "<img src=\"https://d24cdstip7q8pz.cloudfront.net/t/ineuron1/content/common/images/final%20logo.png\" height=60 alt-text=\"iNeuron.ai logo\">"
   ]
  },
  {
   "cell_type": "markdown",
   "metadata": {},
   "source": [
    "## Open MongoDB compass to visually see what each python commands does\n",
    "\n",
    "> ![first screen](mongo_img/compass/c1.JPG)"
   ]
  },
  {
   "cell_type": "markdown",
   "metadata": {},
   "source": [
    "### STEP 1: Create a DB"
   ]
  },
  {
   "cell_type": "code",
   "execution_count": 1,
   "metadata": {},
   "outputs": [],
   "source": [
    "import pymongo"
   ]
  },
  {
   "cell_type": "code",
   "execution_count": 3,
   "metadata": {},
   "outputs": [],
   "source": [
    "DEFAULT_CONNECTION_URL = \"mongodb://localhost:27017/\"\n",
    "DB_NAME = \"JahnaviRavi\"\n",
    "\n",
    "# Establish a connection with mongoDB\n",
    "client = pymongo.MongoClient(DEFAULT_CONNECTION_URL)\n",
    "\n",
    "# Create a DB\n",
    "dataBase = client[DB_NAME]"
   ]
  },
  {
   "cell_type": "markdown",
   "metadata": {},
   "source": [
    "---\n",
    "\n",
    "### Paste the default URL in highlighted area of the Compass tool as shown below and click on connect\n",
    "default URL for local system:- \n",
    "```\n",
    "mongodb://localhost:27017/\n",
    "```\n",
    "\n",
    "> ![new connection](mongo_img/compass/c2.JPG)\n",
    "\n",
    "after you press connect you'll see the following screen which contains already existing databases\n",
    "\n",
    "> ![new connection](mongo_img/compass/c3.JPG)\n",
    "\n",
    "\n",
    "**NOTE** you'll not see your database untill or unless you have created first document inside it. So at present we don't have any document in our DB its name is not visible here \n",
    "\n",
    "You can also create a database by clicking on CREATE DATABSE button. You'll see a below screen (But we'll see eveyrthing using python)\n",
    "\n",
    "> ![new connection](mongo_img/compass/c4.JPG)"
   ]
  },
  {
   "cell_type": "code",
   "execution_count": 4,
   "metadata": {},
   "outputs": [
    {
     "data": {
      "text/plain": [
       "['admin', 'config', 'local']"
      ]
     },
     "execution_count": 4,
     "metadata": {},
     "output_type": "execute_result"
    }
   ],
   "source": [
    "# lets see what the existing list of DBs -\n",
    "\n",
    "client.list_database_names()"
   ]
  },
  {
   "cell_type": "code",
   "execution_count": 5,
   "metadata": {},
   "outputs": [
    {
     "name": "stdout",
     "output_type": "stream",
     "text": [
      "DB: 'JahnaviRavi' not yet present OR no collection is present in the DB\n"
     ]
    }
   ],
   "source": [
    "# let's verify whether we have our database in the list or not \n",
    "# we'll use the following function:-\n",
    "\n",
    "def checkExistence_DB(DB_NAME, client):\n",
    "    \"\"\"It verifies the existence of DB\"\"\"\n",
    "    DBlist = client.list_database_names()\n",
    "    if DB_NAME in DBlist:\n",
    "        print(f\"DB: '{DB_NAME}' exists\")\n",
    "        return True\n",
    "    print(f\"DB: '{DB_NAME}' not yet present OR no collection is present in the DB\")\n",
    "    return False\n",
    "\n",
    "\n",
    "_ = checkExistence_DB(DB_NAME=DB_NAME, client=client)"
   ]
  },
  {
   "cell_type": "code",
   "execution_count": 8,
   "metadata": {},
   "outputs": [
    {
     "data": {
      "text/plain": [
       "Database(MongoClient(host=['localhost:27017'], document_class=dict, tz_aware=False, connect=True), 'JahnaviRavi')"
      ]
     },
     "execution_count": 8,
     "metadata": {},
     "output_type": "execute_result"
    }
   ],
   "source": [
    "dataBase"
   ]
  },
  {
   "cell_type": "markdown",
   "metadata": {},
   "source": [
    "### STEP 2: Create a collection"
   ]
  },
  {
   "cell_type": "code",
   "execution_count": 11,
   "metadata": {},
   "outputs": [
    {
     "data": {
      "text/plain": [
       "Collection(Database(MongoClient(host=['localhost:27017'], document_class=dict, tz_aware=False, connect=True), 'JahnaviRavi'), 'JahnaviRavi_Wardrobe')"
      ]
     },
     "execution_count": 11,
     "metadata": {},
     "output_type": "execute_result"
    }
   ],
   "source": [
    "COLLECTION_NAME = \"JahnaviRavi_Wardrobe\"\n",
    "collection = dataBase[COLLECTION_NAME]\n",
    "collection"
   ]
  },
  {
   "cell_type": "code",
   "execution_count": 12,
   "metadata": {},
   "outputs": [
    {
     "name": "stdout",
     "output_type": "stream",
     "text": [
      "Collection:'JahnaviRavi_Wardrobe' in Database:'JahnaviRavi' does not exists OR \n",
      "    no documents are present in the collection\n"
     ]
    }
   ],
   "source": [
    "# let's verify whether we have our database in the list or not \n",
    "# we'll use the following function:-\n",
    "\n",
    "def checkExistence_COL(COLLECTION_NAME, DB_NAME, db):\n",
    "    \"\"\"It verifies the existence of collection name in a database\"\"\"\n",
    "    collection_list = db.list_collection_names()\n",
    "    \n",
    "    if COLLECTION_NAME in collection_list:\n",
    "        print(f\"Collection:'{COLLECTION_NAME}' in Database:'{DB_NAME}' exists\")\n",
    "        return True\n",
    "    \n",
    "    print(f\"Collection:'{COLLECTION_NAME}' in Database:'{DB_NAME}' does not exists OR \\n\\\n",
    "    no documents are present in the collection\")\n",
    "    return False\n",
    "\n",
    "\n",
    "_ = checkExistence_COL(COLLECTION_NAME=COLLECTION_NAME, DB_NAME=DB_NAME, db=dataBase)"
   ]
  },
  {
   "cell_type": "markdown",
   "metadata": {},
   "source": [
    "### STEP 3: Insert a record in the collection"
   ]
  },
  {
   "cell_type": "code",
   "execution_count": 13,
   "metadata": {},
   "outputs": [
    {
     "data": {
      "text/plain": [
       "<pymongo.results.InsertOneResult at 0x22c149cdb70>"
      ]
     },
     "execution_count": 13,
     "metadata": {},
     "output_type": "execute_result"
    }
   ],
   "source": [
    "record = {'Tops': 'The Striped Sweater',\n",
    "         'Shoes': 'The Sleek Loafers',\n",
    "         'Bottom': 'The Classic Jeans'}\n",
    "\n",
    "collection.insert_one(record)"
   ]
  },
  {
   "cell_type": "code",
   "execution_count": 14,
   "metadata": {},
   "outputs": [
    {
     "name": "stdout",
     "output_type": "stream",
     "text": [
      "Collection:'JahnaviRavi_Wardrobe' in Database:'JahnaviRavi' exists\n"
     ]
    }
   ],
   "source": [
    "_ = checkExistence_COL(COLLECTION_NAME=COLLECTION_NAME, DB_NAME=DB_NAME, db=dataBase)"
   ]
  },
  {
   "cell_type": "markdown",
   "metadata": {},
   "source": []
  },
  {
   "cell_type": "code",
   "execution_count": 15,
   "metadata": {},
   "outputs": [
    {
     "name": "stdout",
     "output_type": "stream",
     "text": [
      "DB: 'JahnaviRavi' exists\n"
     ]
    }
   ],
   "source": [
    "# Verify DATABASE\n",
    "_ = checkExistence_DB(DB_NAME=DB_NAME, client=client)"
   ]
  },
  {
   "cell_type": "code",
   "execution_count": 16,
   "metadata": {},
   "outputs": [
    {
     "name": "stdout",
     "output_type": "stream",
     "text": [
      "Collection:'JahnaviRavi_Wardrobe' in Database:'JahnaviRavi' exists\n"
     ]
    }
   ],
   "source": [
    "# Verify COLLECTION\n",
    "_ = checkExistence_COL(COLLECTION_NAME=COLLECTION_NAME, DB_NAME=DB_NAME, db=dataBase)"
   ]
  },
  {
   "cell_type": "markdown",
   "metadata": {},
   "source": [
    "### STEP 4: Insert multiple records\n"
   ]
  },
  {
   "cell_type": "code",
   "execution_count": 17,
   "metadata": {},
   "outputs": [],
   "source": [
    "\n",
    "list_of_records = [\n",
    "    {'Tops': 'The Button-Up',\n",
    "     'Shoes': 'The White Sneakers',\n",
    "     'Bottom': 'The Work Pants'},\n",
    "    \n",
    "    {'Tops': 'The White T-Shirt',\n",
    "     'Shoes': 'The Ballet Flats',\n",
    "     'Bottom': 'The Wrap Skirt'},\n",
    "]\n",
    "\n",
    "rec = collection.insert_many(list_of_records)"
   ]
  },
  {
   "cell_type": "code",
   "execution_count": 18,
   "metadata": {},
   "outputs": [
    {
     "name": "stdout",
     "output_type": "stream",
     "text": [
      "0. 639ac4b0af70f23f827bbc98\n",
      "1. 639ac4b0af70f23f827bbc99\n"
     ]
    }
   ],
   "source": [
    "# lets print he unique ID that of the record that we have inserted -\n",
    "inserted_IDs = rec.inserted_ids\n",
    "\n",
    "for idx, unique_ids in enumerate(inserted_IDs):\n",
    "    print(f\"{idx}. {unique_ids}\")"
   ]
  },
  {
   "cell_type": "markdown",
   "metadata": {},
   "source": []
  },
  {
   "cell_type": "markdown",
   "metadata": {},
   "source": [
    "You can override the default unique Id by giving a user defined as shown below -\n"
   ]
  },
  {
   "cell_type": "code",
   "execution_count": 24,
   "metadata": {},
   "outputs": [],
   "source": [
    "COLLECTION_NAME = \"JahnaviRavi_Intrests\"\n",
    "Interests = dataBase[COLLECTION_NAME]\n",
    "\n",
    "list_of_records_user_defined_id = [\n",
    "    {\"_id\": \"1\",\n",
    "    \"Adventure\": \"Sky Diving\",\n",
    "    \"Country\": \"NewZealand\"},\n",
    "    {\"_id\": \"2\",\n",
    "    \"Adventure\": \"Scuba Diving\", \n",
    "    \"Country\": \"Ecuador\"}, \n",
    "]\n",
    "\n",
    "interests_record= Interests.insert_many(list_of_records_user_defined_id)"
   ]
  },
  {
   "cell_type": "markdown",
   "metadata": {},
   "source": []
  },
  {
   "cell_type": "markdown",
   "metadata": {},
   "source": [
    "### STEP 5: Find method in MongoDB"
   ]
  },
  {
   "cell_type": "code",
   "execution_count": 25,
   "metadata": {},
   "outputs": [
    {
     "name": "stdout",
     "output_type": "stream",
     "text": [
      "The first record of collection: \n",
      "JahnaviRavi_Intrests is=\n",
      "{'_id': '1', 'Adventure': 'Sky Diving', 'Country': 'NewZealand'}\n"
     ]
    }
   ],
   "source": [
    "find_first_record = Interests.find_one()\n",
    "\n",
    "print(f\"The first record of collection: \\n{COLLECTION_NAME} is=\\\n",
    "\\n{find_first_record}\")"
   ]
  },
  {
   "cell_type": "code",
   "execution_count": 26,
   "metadata": {},
   "outputs": [
    {
     "name": "stdout",
     "output_type": "stream",
     "text": [
      "0: {'_id': '1', 'Adventure': 'Sky Diving', 'Country': 'NewZealand'}\n",
      "1: {'_id': '2', 'Adventure': 'Scuba Diving', 'Country': 'Ecuador'}\n"
     ]
    }
   ],
   "source": [
    "# find all the record at once present in thr record with all the fields\n",
    "all_record = Interests.find()\n",
    "\n",
    "for idx, record in enumerate(all_record):\n",
    "    print(f\"{idx}: {record}\")"
   ]
  },
  {
   "cell_type": "code",
   "execution_count": 30,
   "metadata": {},
   "outputs": [
    {
     "name": "stdout",
     "output_type": "stream",
     "text": [
      "0: {'_id': '1', 'Adventure': 'Sky Diving'}\n",
      "1: {'_id': '2', 'Adventure': 'Scuba Diving'}\n"
     ]
    }
   ],
   "source": [
    "# find all the record at once present in the record with SPECIFIC fields\n",
    "all_record = Interests.find({}, {\"Adventure\"})\n",
    "\n",
    "for idx, record in enumerate(all_record):\n",
    "    print(f\"{idx}: {record}\")"
   ]
  },
  {
   "cell_type": "markdown",
   "metadata": {},
   "source": [
    "### STEP 6: Query or filter out data in MongoDB"
   ]
  },
  {
   "cell_type": "code",
   "execution_count": 32,
   "metadata": {},
   "outputs": [
    {
     "name": "stdout",
     "output_type": "stream",
     "text": [
      "{'_id': '1', 'Adventure': 'Sky Diving', 'Country': 'NewZealand'}\n"
     ]
    }
   ],
   "source": [
    "query1 = {\"_id\": '1'}\n",
    "\n",
    "results = Interests.find(query1)\n",
    "for data in results:\n",
    "    print(data)"
   ]
  },
  {
   "cell_type": "code",
   "execution_count": 33,
   "metadata": {},
   "outputs": [
    {
     "name": "stdout",
     "output_type": "stream",
     "text": [
      "{'_id': '2', 'Adventure': 'Scuba Diving', 'Country': 'Ecuador'}\n"
     ]
    }
   ],
   "source": [
    "query2 = {\"_id\": {\"$gt\": \"1\"}}\n",
    "\n",
    "results = Interests.find(query2)\n",
    "for data in results:\n",
    "    print(data)"
   ]
  },
  {
   "cell_type": "markdown",
   "metadata": {},
   "source": [
    "### STEP 7: Delete one or many documents in MongoDB"
   ]
  },
  {
   "cell_type": "code",
   "execution_count": 35,
   "metadata": {},
   "outputs": [
    {
     "data": {
      "text/plain": [
       "<pymongo.results.InsertManyResult at 0x22c14cd4370>"
      ]
     },
     "execution_count": 35,
     "metadata": {},
     "output_type": "execute_result"
    }
   ],
   "source": [
    "# Lets add some random data in faculties\n",
    "random_data = [\n",
    "    {'_id': '3', 'Adventure': 'Cliff Jumping', 'Country': 'Italy'},\n",
    "    {'_id': '4', 'Adventure': 'Water Skiing', 'Country': 'Florida'},\n",
    "    {'_id': '5', 'Adventure': 'Cave Diving', 'Country': 'Bahamas'}\n",
    "]\n",
    "\n",
    "Interests.insert_many(random_data)"
   ]
  },
  {
   "cell_type": "code",
   "execution_count": 41,
   "metadata": {},
   "outputs": [
    {
     "data": {
      "text/plain": [
       "<pymongo.results.DeleteResult at 0x22c14d91750>"
      ]
     },
     "execution_count": 41,
     "metadata": {},
     "output_type": "execute_result"
    }
   ],
   "source": [
    "# Lets delete one document \n",
    "query_to_delete = {'Country': 'Ecuador'}\n",
    "\n",
    "Interests.delete_one(query_to_delete)"
   ]
  },
  {
   "cell_type": "code",
   "execution_count": 40,
   "metadata": {},
   "outputs": [
    {
     "data": {
      "text/plain": [
       "<pymongo.results.DeleteResult at 0x22c138966e0>"
      ]
     },
     "execution_count": 40,
     "metadata": {},
     "output_type": "execute_result"
    }
   ],
   "source": [
    "# lets delete multiple record\n",
    "multi_query_to_delete = {\"_id\": {\"$gte\": \"4\"}}\n",
    "\n",
    "Interests.delete_many(multi_query_to_delete)"
   ]
  },
  {
   "cell_type": "markdown",
   "metadata": {},
   "source": [
    "> **NOTE**: In order to delete all the documents present in the collection you can just pass and empty dictionary as shown below: -\n",
    "```python\n",
    "interests.delete_many({})\n",
    "```"
   ]
  },
  {
   "cell_type": "markdown",
   "metadata": {},
   "source": [
    "### STEP 8: Drop the entire collection"
   ]
  },
  {
   "cell_type": "code",
   "execution_count": 42,
   "metadata": {},
   "outputs": [],
   "source": [
    "Interests.drop()"
   ]
  },
  {
   "cell_type": "code",
   "execution_count": 43,
   "metadata": {},
   "outputs": [
    {
     "name": "stdout",
     "output_type": "stream",
     "text": [
      "Collection:'JahnaviRavi_Interests' in Database:'JahnaviRavi' does not exists OR \n",
      "    no documents are present in the collection\n"
     ]
    }
   ],
   "source": [
    "# Lets verify if the collection exists or not after dropping it\n",
    "COLLECTION_NAME = \"JahnaviRavi_Interests\"\n",
    "DB_NAME = \"JahnaviRavi\"\n",
    "_ = checkExistence_COL(COLLECTION_NAME=COLLECTION_NAME, DB_NAME=DB_NAME, db=dataBase)"
   ]
  },
  {
   "cell_type": "markdown",
   "metadata": {},
   "source": [
    "### STEP 9: Update"
   ]
  },
  {
   "cell_type": "code",
   "execution_count": 44,
   "metadata": {},
   "outputs": [
    {
     "name": "stdout",
     "output_type": "stream",
     "text": [
      "{'_id': ObjectId('639ac303af70f23f827bbc97'), 'Tops': 'The Striped Sweater', 'Shoes': 'The Sleek Loafers', 'Bottom': 'The Classic Jeans'}\n",
      "\n",
      "{'_id': ObjectId('639ac4b0af70f23f827bbc98'), 'Tops': 'The Button-Up', 'Shoes': 'The White Sneakers', 'Bottom': 'The Work Pants'}\n",
      "\n",
      "{'_id': ObjectId('639ac4b0af70f23f827bbc99'), 'Tops': 'The White T-Shirt', 'Shoes': 'The Ballet Flats', 'Bottom': 'The Wrap Skirt'}\n",
      "\n"
     ]
    }
   ],
   "source": [
    "COLLECTION_NAME = \"JahnaviRavi_Wardrobe\"\n",
    "\n",
    "products = dataBase[COLLECTION_NAME]\n",
    "\n",
    "all_record = products.find()\n",
    "\n",
    "for idx, record in enumerate(all_record):\n",
    "    print(f\"{record}\\n\")"
   ]
  },
  {
   "cell_type": "code",
   "execution_count": 60,
   "metadata": {},
   "outputs": [],
   "source": [
    "present_data = {'Bottom': 'The Wrap Skirt'}\n",
    "new_data = {\"$set\":{'Bottom': 'Jeans'}}"
   ]
  },
  {
   "cell_type": "code",
   "execution_count": 61,
   "metadata": {},
   "outputs": [
    {
     "data": {
      "text/plain": [
       "<pymongo.results.UpdateResult at 0x22c14cd5060>"
      ]
     },
     "execution_count": 61,
     "metadata": {},
     "output_type": "execute_result"
    }
   ],
   "source": [
    "products.update_one(present_data, new_data)"
   ]
  },
  {
   "cell_type": "code",
   "execution_count": 62,
   "metadata": {},
   "outputs": [
    {
     "name": "stdout",
     "output_type": "stream",
     "text": [
      "{'_id': ObjectId('639ac303af70f23f827bbc97'), 'Tops': 'The Striped Sweater', 'Shoes': 'The Sleek Loafers', 'Bottom': 'The Classic Jeans'}\n",
      "\n",
      "{'_id': ObjectId('639ac4b0af70f23f827bbc98'), 'Tops': 'The Button-Up', 'Shoes': 'The White Sneakers', 'Bottom': 'The Work Pants'}\n",
      "\n",
      "{'_id': ObjectId('639ac4b0af70f23f827bbc99'), 'Tops': 'The White T-Shirt', 'Shoes': 'The Ballet Flats', 'Bottom': 'Jeans'}\n",
      "\n"
     ]
    }
   ],
   "source": [
    "all_record = products.find()\n",
    "\n",
    "for idx, record in enumerate(all_record):\n",
    "    print(f\"{record}\\n\")"
   ]
  },
  {
   "cell_type": "code",
   "execution_count": null,
   "metadata": {},
   "outputs": [],
   "source": []
  },
  {
   "cell_type": "code",
   "execution_count": 65,
   "metadata": {},
   "outputs": [
    {
     "name": "stdout",
     "output_type": "stream",
     "text": [
      "{'_id': ObjectId('639ac303af70f23f827bbc97'), 'Tops': 'The Striped Sweater', 'Shoes': 'The Sleek Loafers', 'Bottom': 'The Classic Jeans'}\n",
      "\n",
      "{'_id': ObjectId('639ac4b0af70f23f827bbc98'), 'Tops': 'The Button-Up', 'Shoes': 'The White Sneakers', 'Bottom': 'The Work Pants'}\n",
      "\n",
      "{'_id': ObjectId('639ac4b0af70f23f827bbc99'), 'Tops': 'The White T-Shirt', 'Shoes': 'The Ballet Flats', 'Bottom': 'Jeans'}\n",
      "\n"
     ]
    }
   ],
   "source": [
    "Interests.update_many(present_data, new_data)\n",
    "\n",
    "all_record = products.find()\n",
    "\n",
    "for idx, record in enumerate(all_record):\n",
    "    print(f\"{record}\\n\")"
   ]
  },
  {
   "cell_type": "markdown",
   "metadata": {},
   "source": [
    "### STEP 9: Set limit to view N records"
   ]
  },
  {
   "cell_type": "code",
   "execution_count": 64,
   "metadata": {},
   "outputs": [
    {
     "name": "stdout",
     "output_type": "stream",
     "text": [
      "{'_id': ObjectId('639ac303af70f23f827bbc97'), 'Tops': 'The Striped Sweater', 'Shoes': 'The Sleek Loafers', 'Bottom': 'The Classic Jeans'}\n",
      "\n",
      "{'_id': ObjectId('639ac4b0af70f23f827bbc98'), 'Tops': 'The Button-Up', 'Shoes': 'The White Sneakers', 'Bottom': 'The Work Pants'}\n",
      "\n"
     ]
    }
   ],
   "source": [
    "N_records = 2\n",
    "\n",
    "N_record = products.find().limit(N_records)\n",
    "\n",
    "for idx, record in enumerate(N_record):\n",
    "    print(f\"{record}\\n\")"
   ]
  },
  {
   "cell_type": "code",
   "execution_count": null,
   "metadata": {},
   "outputs": [],
   "source": []
  }
 ],
 "metadata": {
  "kernelspec": {
   "display_name": "Python 3 (ipykernel)",
   "language": "python",
   "name": "python3"
  },
  "language_info": {
   "codemirror_mode": {
    "name": "ipython",
    "version": 3
   },
   "file_extension": ".py",
   "mimetype": "text/x-python",
   "name": "python",
   "nbconvert_exporter": "python",
   "pygments_lexer": "ipython3",
   "version": "3.10.8"
  }
 },
 "nbformat": 4,
 "nbformat_minor": 4
}
